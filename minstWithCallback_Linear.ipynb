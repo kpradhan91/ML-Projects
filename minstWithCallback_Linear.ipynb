{
  "nbformat": 4,
  "nbformat_minor": 0,
  "metadata": {
    "colab": {
      "name": "minstWithCallback_Linear.ipynb",
      "provenance": []
    },
    "kernelspec": {
      "name": "python3",
      "display_name": "Python 3"
    },
    "language_info": {
      "name": "python"
    }
  },
  "cells": [
    {
      "cell_type": "code",
      "metadata": {
        "id": "F9js8o-v-Vbf"
      },
      "source": [
        "import tensorflow as tf\n",
        "# GRADED FUNCTION: train_mnist\n",
        "def train_mnist():\n",
        "    class myCallback(tf.keras.callbacks.Callback):\n",
        "        def on_epoch_end(self, epoch, logs={}):\n",
        "            if(logs.get('loss')<0.4):\n",
        "              print(\"\\nReached 99% accuracy so cancelling training!\")\n",
        "              self.model.stop_training = True\n",
        "\n",
        "    mnist = tf.keras.datasets.mnist\n",
        "    callbacks = myCallback()\n",
        "    (x_train, y_train),(x_test, y_test) = mnist.load_data()\n",
        "    # YOUR CODE SHOULD START HERE\n",
        "    x_test=x_test/255.0\n",
        "    y_test=y_test/255.0\n",
        "    # YOUR CODE SHOULD END HERE\n",
        "    model = tf.keras.models.Sequential([\n",
        "      tf.keras.layers.Flatten(),\n",
        "      tf.keras.layers.Dense(512, activation=tf.nn.relu),\n",
        "      tf.keras.layers.Dense(10, activation=tf.nn.softmax)\n",
        "    ])\n",
        "\n",
        "    model.compile(optimizer='adam',\n",
        "                  loss='sparse_categorical_crossentropy',\n",
        "                  metrics=['accuracy'])\n",
        "    \n",
        "    # model fitting\n",
        "    history = model.fit(x_train, y_train, epochs=10, callbacks=[callbacks])\n",
        "    # model fitting\n",
        "    return history.epoch, history.history['accuracy'][-1]"
      ],
      "execution_count": 17,
      "outputs": []
    },
    {
      "cell_type": "code",
      "metadata": {
        "colab": {
          "base_uri": "https://localhost:8080/"
        },
        "id": "7vSHeMfu-kPp",
        "outputId": "603a9a0a-7f7b-422c-83fc-f4d62cc60e3a"
      },
      "source": [
        "train_mnist()"
      ],
      "execution_count": 18,
      "outputs": [
        {
          "output_type": "stream",
          "text": [
            "Epoch 1/10\n",
            "1875/1875 [==============================] - 6s 3ms/step - loss: 2.6756 - accuracy: 0.9050\n",
            "Epoch 2/10\n",
            "1875/1875 [==============================] - 6s 3ms/step - loss: 0.3264 - accuracy: 0.9374\n",
            "\n",
            "Reached 99% accuracy so cancelling training!\n"
          ],
          "name": "stdout"
        },
        {
          "output_type": "execute_result",
          "data": {
            "text/plain": [
              "([0, 1], 0.9374499917030334)"
            ]
          },
          "metadata": {
            "tags": []
          },
          "execution_count": 18
        }
      ]
    },
    {
      "cell_type": "code",
      "metadata": {
        "id": "orGPahDm-o-q"
      },
      "source": [
        ""
      ],
      "execution_count": null,
      "outputs": []
    }
  ]
}